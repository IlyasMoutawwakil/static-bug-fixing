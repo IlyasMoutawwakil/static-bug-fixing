{
 "cells": [
  {
   "cell_type": "code",
   "execution_count": 1,
   "metadata": {},
   "outputs": [],
   "source": [
    "%reload_ext autoreload\n",
    "%autoreload 2"
   ]
  },
  {
   "cell_type": "code",
   "execution_count": 2,
   "metadata": {},
   "outputs": [],
   "source": [
    "import bleu\n",
    "import weighted_ngram_match\n",
    "import syntax_match\n",
    "import dataflow_match"
   ]
  },
  {
   "cell_type": "code",
   "execution_count": 19,
   "metadata": {},
   "outputs": [],
   "source": [
    "def compute_metrics(targets, suggestions):\n",
    "    # calculate ngram match (BLEU)\n",
    "    tokenized_targets = [x.split() for x in targets]\n",
    "    tokenized_suggestions = [[x.split() for x in sugg] for sugg in suggestions]\n",
    "\n",
    "    bleu_ngram_match_score = bleu.corpus_bleu(tokenized_suggestions, tokenized_targets)\n",
    "\n",
    "    # calculate weighted ngram match\n",
    "    keywords = [x.strip() for x in open(\n",
    "        f'data/java-keywords.txt', 'r', encoding='utf-8').readlines()]\n",
    "\n",
    "\n",
    "    def make_weights(reference_tokens, key_word_list):\n",
    "        return {token: 1 if token in key_word_list else 0.2\n",
    "                for token in reference_tokens}\n",
    "\n",
    "\n",
    "    tokenized_suggs_with_weights = [[[reference_tokens, make_weights(reference_tokens, keywords)]\n",
    "                                    for reference_tokens in sugg] for sugg in tokenized_suggestions]\n",
    "\n",
    "    weighted_ngram_match_score = weighted_ngram_match.corpus_bleu(\n",
    "        tokenized_suggs_with_weights, tokenized_targets)\n",
    "    \n",
    "    # calculate syntax match\n",
    "    syntax_match_score = syntax_match.corpus_syntax_match(\n",
    "        suggestions, targets, 'java')\n",
    "\n",
    "    # calculate dataflow match\n",
    "    dataflow_match_score = dataflow_match.corpus_dataflow_match(\n",
    "        suggestions, targets, 'java')\n",
    "    \n",
    "    # return all scores in a dict\n",
    "    return {\n",
    "        'bleu_ngram_match': bleu_ngram_match_score,\n",
    "        'weighted_ngram_match': weighted_ngram_match_score,\n",
    "        'syntax_match': syntax_match_score,\n",
    "        'dataflow_match': dataflow_match_score\n",
    "    }"
   ]
  },
  {
   "cell_type": "code",
   "execution_count": 23,
   "metadata": {},
   "outputs": [
    {
     "data": {
      "text/plain": [
       "'\\npublic POIFSFileSystem(){\\n    this.phase = true;\\n    _header.BATCount = 1;\\n    _header.BATArray = (new int[]){1 };\\n    BATBlock bb = BATBlock.CreateEmptyBATBlock(false, bigBlockSize);\\n    bb.WorldBlockIndex=1;\\n    _bold_blocks.Add(bb);\\n    SetNextBlock(0, POIFSConstants.END_OF_CHAIN);\\n    SetNextBlock(1, POIFSConstants.FAT_SECTOR_BLOCK);\\n    _property_table.SetStartBlock(0);\\n}\\n'"
      ]
     },
     "execution_count": 23,
     "metadata": {},
     "output_type": "execute_result"
    }
   ],
   "source": [
    "\"\"\"\n",
    "public POIFSFileSystem(){\n",
    "    this.phase = true;\n",
    "    _header.BATCount = 1;\n",
    "    _header.BATArray = (new int[]){1 };\n",
    "    BATBlock bb = BATBlock.CreateEmptyBATBlock(false, bigBlockSize);\n",
    "    bb.WorldBlockIndex=1;\n",
    "    _bold_blocks.Add(bb);\n",
    "    SetNextBlock(0, POIFSConstants.END_OF_CHAIN);\n",
    "    SetNextBlock(1, POIFSConstants.FAT_SECTOR_BLOCK);\n",
    "    _property_table.SetStartBlock(0);\n",
    "}\n",
    "\"\"\""
   ]
  },
  {
   "attachments": {},
   "cell_type": "markdown",
   "metadata": {},
   "source": [
    "# Correct suggestion"
   ]
  },
  {
   "cell_type": "code",
   "execution_count": 24,
   "metadata": {},
   "outputs": [
    {
     "data": {
      "text/plain": [
       "{'bleu_ngram_match': 1.0,\n",
       " 'weighted_ngram_match': 1.0,\n",
       " 'syntax_match': 1.0,\n",
       " 'dataflow_match': 1.0}"
      ]
     },
     "execution_count": 24,
     "metadata": {},
     "output_type": "execute_result"
    }
   ],
   "source": [
    "targets = [\"\"\"BATBlock bb = BATBlock.CreateEmptyBATBlock(false, bigBlockSize);\"\"\"]\n",
    "\n",
    "suggestions = [targets]\n",
    "\n",
    "compute_metrics(targets, suggestions)"
   ]
  },
  {
   "attachments": {},
   "cell_type": "markdown",
   "metadata": {},
   "source": [
    "# Suggestion swap variables"
   ]
  },
  {
   "cell_type": "code",
   "execution_count": 25,
   "metadata": {},
   "outputs": [
    {
     "data": {
      "text/plain": [
       "{'bleu_ngram_match': 0.26591479484724945,\n",
       " 'weighted_ngram_match': 0.26591479484724945,\n",
       " 'syntax_match': 0.0,\n",
       " 'dataflow_match': 1.0}"
      ]
     },
     "execution_count": 25,
     "metadata": {},
     "output_type": "execute_result"
    }
   ],
   "source": [
    "targets = [\"\"\"BATBlock bb = BATBlock.CreateEmptyBATBlock(false, bigBlockSize);\"\"\"]\n",
    "\n",
    "suggestions = [[\"\"\"BATBlock bb = BATBlock.CreateEmptyBATBlock(bigBlockSize, false);\"\"\"]]\n",
    "\n",
    "compute_metrics(targets, suggestions)"
   ]
  },
  {
   "attachments": {},
   "cell_type": "markdown",
   "metadata": {},
   "source": [
    "# Suggestion swap lines"
   ]
  },
  {
   "cell_type": "code",
   "execution_count": 26,
   "metadata": {},
   "outputs": [
    {
     "data": {
      "text/plain": [
       "{'bleu_ngram_match': 0.5253819788848316,\n",
       " 'weighted_ngram_match': 0.5253819788848316,\n",
       " 'syntax_match': 0.6428571428571429,\n",
       " 'dataflow_match': 0.5}"
      ]
     },
     "execution_count": 26,
     "metadata": {},
     "output_type": "execute_result"
    }
   ],
   "source": [
    "targets = [\"\"\"\n",
    "BATBlock bb = BATBlock.CreateEmptyBATBlock(bigBlockSize, false);\n",
    "_header.BATArray = (new int[]){1 };\n",
    "\"\"\"]\n",
    "\n",
    "suggestions = [[\"\"\"\n",
    "_header.BATArray = (new int[]){1 };\n",
    "BATBlock bb = BATBlock.CreateEmptyBATBlock(false, bigBlockSize);\n",
    "\"\"\"]]\n",
    "\n",
    "compute_metrics(targets, suggestions)"
   ]
  },
  {
   "attachments": {},
   "cell_type": "markdown",
   "metadata": {},
   "source": [
    "# Wrong binary operator"
   ]
  },
  {
   "cell_type": "code",
   "execution_count": 30,
   "metadata": {},
   "outputs": [
    {
     "data": {
      "text/plain": [
       "{'bleu_ngram_match': 0.537284965911771,\n",
       " 'weighted_ngram_match': 0.537284965911771,\n",
       " 'syntax_match': 1.0,\n",
       " 'dataflow_match': 1.0}"
      ]
     },
     "execution_count": 30,
     "metadata": {},
     "output_type": "execute_result"
    }
   ],
   "source": [
    "targets = [\"\"\"\n",
    "BATBlock bb = cc + DD;\n",
    "\"\"\"]\n",
    "\n",
    "suggestions = [[\"\"\"\n",
    "BATBlock bb = cc * DD;\n",
    "\"\"\"]]\n",
    "\n",
    "compute_metrics(targets, suggestions)"
   ]
  },
  {
   "attachments": {},
   "cell_type": "markdown",
   "metadata": {},
   "source": [
    "# Wrong type"
   ]
  },
  {
   "cell_type": "code",
   "execution_count": 33,
   "metadata": {},
   "outputs": [
    {
     "data": {
      "text/plain": [
       "{'bleu_ngram_match': 0.668740304976422,\n",
       " 'weighted_ngram_match': 0.5773502691896258,\n",
       " 'syntax_match': 0.5,\n",
       " 'dataflow_match': 1.0}"
      ]
     },
     "execution_count": 33,
     "metadata": {},
     "output_type": "execute_result"
    }
   ],
   "source": [
    "targets = [\"\"\"\n",
    "BATBlock bb = BATBlock.CreateEmptyBATBlock(bigBlockSize, false);\n",
    "\"\"\"]\n",
    "\n",
    "suggestions = [[\"\"\"\n",
    "float bb = BATBlock.CreateEmptyBATBlock(bigBlockSize, false);\n",
    "\"\"\"]]\n",
    "\n",
    "compute_metrics(targets, suggestions)"
   ]
  },
  {
   "attachments": {},
   "cell_type": "markdown",
   "metadata": {},
   "source": [
    "# Wrong binary operands"
   ]
  },
  {
   "cell_type": "code",
   "execution_count": 34,
   "metadata": {},
   "outputs": [
    {
     "data": {
      "text/plain": [
       "{'bleu_ngram_match': 0.21711852081087685,\n",
       " 'weighted_ngram_match': 0.22724387329349988,\n",
       " 'syntax_match': 1.0,\n",
       " 'dataflow_match': 1.0}"
      ]
     },
     "execution_count": 34,
     "metadata": {},
     "output_type": "execute_result"
    }
   ],
   "source": [
    "targets = [\"\"\"\n",
    "float bb = cc - DD;\n",
    "\"\"\"]\n",
    "\n",
    "suggestions = [[\"\"\"\n",
    "float bb = DD - cc;\n",
    "\"\"\"]]\n",
    "\n",
    "compute_metrics(targets, suggestions)"
   ]
  },
  {
   "cell_type": "code",
   "execution_count": null,
   "metadata": {},
   "outputs": [],
   "source": []
  }
 ],
 "metadata": {
  "kernelspec": {
   "display_name": "static-bug-fixing",
   "language": "python",
   "name": "python3"
  },
  "language_info": {
   "codemirror_mode": {
    "name": "ipython",
    "version": 3
   },
   "file_extension": ".py",
   "mimetype": "text/x-python",
   "name": "python",
   "nbconvert_exporter": "python",
   "pygments_lexer": "ipython3",
   "version": "3.9.15"
  },
  "orig_nbformat": 4,
  "vscode": {
   "interpreter": {
    "hash": "d713b843a73b127a159455cd0c796efca24dd1d016ba991f0bfdc602988835f2"
   }
  }
 },
 "nbformat": 4,
 "nbformat_minor": 2
}
