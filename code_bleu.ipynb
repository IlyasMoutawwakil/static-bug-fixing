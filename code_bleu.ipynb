{
 "cells": [
  {
   "cell_type": "code",
   "execution_count": 1,
   "metadata": {},
   "outputs": [],
   "source": [
    "%reload_ext autoreload\n",
    "%autoreload 2"
   ]
  },
  {
   "cell_type": "code",
   "execution_count": 13,
   "metadata": {},
   "outputs": [],
   "source": [
    "import bleu\n",
    "import weighted_ngram_match\n",
    "import syntax_match\n",
    "import dataflow_match"
   ]
  },
  {
   "cell_type": "code",
   "execution_count": 14,
   "metadata": {},
   "outputs": [],
   "source": [
    "def compute_metrics(targets, suggestions):\n",
    "    # calculate ngram match (BLEU)\n",
    "    tokenized_targets = [x.split() for x in targets]\n",
    "    tokenized_suggestions = [[x.split() for x in sugg] for sugg in suggestions]\n",
    "\n",
    "    bleu_ngram_match_score = bleu.corpus_bleu(tokenized_suggestions, tokenized_targets)\n",
    "\n",
    "    # calculate weighted ngram match\n",
    "    keywords = [x.strip() for x in open(\n",
    "        f'data/java-keywords.txt', 'r', encoding='utf-8').readlines()]\n",
    "\n",
    "\n",
    "    def make_weights(reference_tokens, key_word_list):\n",
    "        return {token: 1 if token in key_word_list else 0.2\n",
    "                for token in reference_tokens}\n",
    "\n",
    "\n",
    "    tokenized_suggs_with_weights = [[[reference_tokens, make_weights(reference_tokens, keywords)]\n",
    "                                    for reference_tokens in sugg] for sugg in tokenized_suggestions]\n",
    "\n",
    "    weighted_ngram_match_score = weighted_ngram_match.corpus_bleu(\n",
    "        tokenized_suggs_with_weights, tokenized_targets)\n",
    "    \n",
    "    # calculate syntax match\n",
    "    syntax_match_score = syntax_match.corpus_syntax_match(\n",
    "        suggestions, targets, 'java')\n",
    "\n",
    "    # calculate dataflow match\n",
    "    dataflow_match_score = dataflow_match.corpus_dataflow_match(\n",
    "        suggestions, targets, 'java')\n",
    "    \n",
    "    # return all scores in a dict\n",
    "    return {\n",
    "        'bleu_ngram_match': bleu_ngram_match_score,\n",
    "        'weighted_ngram_match': weighted_ngram_match_score,\n",
    "        'syntax_match': syntax_match_score,\n",
    "        'dataflow_match': dataflow_match_score\n",
    "    }"
   ]
  },
  {
   "cell_type": "code",
   "execution_count": 15,
   "metadata": {},
   "outputs": [
    {
     "data": {
      "text/plain": [
       "'\\npublic POIFSFileSystem(){\\n    this.phase = true;\\n    _header.BATCount = 1;\\n    _header.BATArray = (new int[]){1 };\\n    BATBlock bb = BATBlock.CreateEmptyBATBlock(false, bigBlockSize);\\n    bb.WorldBlockIndex=1;\\n    _bold_blocks.Add(bb);\\n    SetNextBlock(0, POIFSConstants.END_OF_CHAIN);\\n    SetNextBlock(1, POIFSConstants.FAT_SECTOR_BLOCK);\\n    _property_table.SetStartBlock(0);\\n}\\n'"
      ]
     },
     "execution_count": 15,
     "metadata": {},
     "output_type": "execute_result"
    }
   ],
   "source": [
    "\"\"\"\n",
    "public POIFSFileSystem(){\n",
    "    this.phase = true;\n",
    "    _header.BATCount = 1;\n",
    "    _header.BATArray = (new int[]){1 };\n",
    "    BATBlock bb = BATBlock.CreateEmptyBATBlock(false, bigBlockSize);\n",
    "    bb.WorldBlockIndex=1;\n",
    "    _bold_blocks.Add(bb);\n",
    "    SetNextBlock(0, POIFSConstants.END_OF_CHAIN);\n",
    "    SetNextBlock(1, POIFSConstants.FAT_SECTOR_BLOCK);\n",
    "    _property_table.SetStartBlock(0);\n",
    "}\n",
    "\"\"\""
   ]
  },
  {
   "attachments": {},
   "cell_type": "markdown",
   "metadata": {},
   "source": [
    "# Correct suggestion"
   ]
  },
  {
   "cell_type": "code",
   "execution_count": 16,
   "metadata": {},
   "outputs": [
    {
     "name": "stdout",
     "output_type": "stream",
     "text": [
      "(program (local_variable_declaration type: (type_identifier) declarator: (variable_declarator name: (identifier) value: (method_invocation object: (identifier) name: (identifier) arguments: (argument_list (false) (identifier)))))) ['(program (local_variable_declaration type: (type_identifier) declarator: (variable_declarator name: (identifier) value: (method_invocation object: (identifier) name: (identifier) arguments: (argument_list (false) (identifier))))))', '(local_variable_declaration type: (type_identifier) declarator: (variable_declarator name: (identifier) value: (method_invocation object: (identifier) name: (identifier) arguments: (argument_list (false) (identifier)))))', '(variable_declarator name: (identifier) value: (method_invocation object: (identifier) name: (identifier) arguments: (argument_list (false) (identifier))))', '(method_invocation object: (identifier) name: (identifier) arguments: (argument_list (false) (identifier)))', '(argument_list (false) (identifier))']\n",
      "(local_variable_declaration type: (type_identifier) declarator: (variable_declarator name: (identifier) value: (method_invocation object: (identifier) name: (identifier) arguments: (argument_list (false) (identifier))))) ['(program (local_variable_declaration type: (type_identifier) declarator: (variable_declarator name: (identifier) value: (method_invocation object: (identifier) name: (identifier) arguments: (argument_list (false) (identifier))))))', '(local_variable_declaration type: (type_identifier) declarator: (variable_declarator name: (identifier) value: (method_invocation object: (identifier) name: (identifier) arguments: (argument_list (false) (identifier)))))', '(variable_declarator name: (identifier) value: (method_invocation object: (identifier) name: (identifier) arguments: (argument_list (false) (identifier))))', '(method_invocation object: (identifier) name: (identifier) arguments: (argument_list (false) (identifier)))', '(argument_list (false) (identifier))']\n",
      "(variable_declarator name: (identifier) value: (method_invocation object: (identifier) name: (identifier) arguments: (argument_list (false) (identifier)))) ['(program (local_variable_declaration type: (type_identifier) declarator: (variable_declarator name: (identifier) value: (method_invocation object: (identifier) name: (identifier) arguments: (argument_list (false) (identifier))))))', '(local_variable_declaration type: (type_identifier) declarator: (variable_declarator name: (identifier) value: (method_invocation object: (identifier) name: (identifier) arguments: (argument_list (false) (identifier)))))', '(variable_declarator name: (identifier) value: (method_invocation object: (identifier) name: (identifier) arguments: (argument_list (false) (identifier))))', '(method_invocation object: (identifier) name: (identifier) arguments: (argument_list (false) (identifier)))', '(argument_list (false) (identifier))']\n",
      "(method_invocation object: (identifier) name: (identifier) arguments: (argument_list (false) (identifier))) ['(program (local_variable_declaration type: (type_identifier) declarator: (variable_declarator name: (identifier) value: (method_invocation object: (identifier) name: (identifier) arguments: (argument_list (false) (identifier))))))', '(local_variable_declaration type: (type_identifier) declarator: (variable_declarator name: (identifier) value: (method_invocation object: (identifier) name: (identifier) arguments: (argument_list (false) (identifier)))))', '(variable_declarator name: (identifier) value: (method_invocation object: (identifier) name: (identifier) arguments: (argument_list (false) (identifier))))', '(method_invocation object: (identifier) name: (identifier) arguments: (argument_list (false) (identifier)))', '(argument_list (false) (identifier))']\n",
      "(argument_list (false) (identifier)) ['(program (local_variable_declaration type: (type_identifier) declarator: (variable_declarator name: (identifier) value: (method_invocation object: (identifier) name: (identifier) arguments: (argument_list (false) (identifier))))))', '(local_variable_declaration type: (type_identifier) declarator: (variable_declarator name: (identifier) value: (method_invocation object: (identifier) name: (identifier) arguments: (argument_list (false) (identifier)))))', '(variable_declarator name: (identifier) value: (method_invocation object: (identifier) name: (identifier) arguments: (argument_list (false) (identifier))))', '(method_invocation object: (identifier) name: (identifier) arguments: (argument_list (false) (identifier)))', '(argument_list (false) (identifier))']\n"
     ]
    },
    {
     "data": {
      "text/plain": [
       "{'bleu_ngram_match': 1.0,\n",
       " 'weighted_ngram_match': 1.0,\n",
       " 'syntax_match': 1.0,\n",
       " 'dataflow_match': 1.0}"
      ]
     },
     "execution_count": 16,
     "metadata": {},
     "output_type": "execute_result"
    }
   ],
   "source": [
    "targets = [\"\"\"BATBlock bb = BATBlock.CreateEmptyBATBlock(false, bigBlockSize);\"\"\"]\n",
    "\n",
    "suggestions = [[\"\"\"BATBlock bb = BATBlock.CreateEmptyBATBlock(false, bigBlockSize);\"\"\"]]\n",
    "\n",
    "compute_metrics(targets, suggestions)"
   ]
  },
  {
   "attachments": {},
   "cell_type": "markdown",
   "metadata": {},
   "source": [
    "# Suggestion swap variables"
   ]
  },
  {
   "cell_type": "code",
   "execution_count": 21,
   "metadata": {},
   "outputs": [
    {
     "name": "stdout",
     "output_type": "stream",
     "text": [
      "(program (local_variable_declaration type: (type_identifier) declarator: (variable_declarator name: (identifier) value: (method_invocation object: (identifier) name: (identifier) arguments: (argument_list (identifier) (false))))))\n",
      "['(program (local_variable_declaration type: (type_identifier) declarator: (variable_declarator name: (identifier) value: (method_invocation object: (identifier) name: (identifier) arguments: (argument_list (false) (identifier))))))', '(local_variable_declaration type: (type_identifier) declarator: (variable_declarator name: (identifier) value: (method_invocation object: (identifier) name: (identifier) arguments: (argument_list (false) (identifier)))))', '(variable_declarator name: (identifier) value: (method_invocation object: (identifier) name: (identifier) arguments: (argument_list (false) (identifier))))', '(method_invocation object: (identifier) name: (identifier) arguments: (argument_list (false) (identifier)))', '(argument_list (false) (identifier))']\n",
      "\n",
      "(local_variable_declaration type: (type_identifier) declarator: (variable_declarator name: (identifier) value: (method_invocation object: (identifier) name: (identifier) arguments: (argument_list (identifier) (false)))))\n",
      "['(program (local_variable_declaration type: (type_identifier) declarator: (variable_declarator name: (identifier) value: (method_invocation object: (identifier) name: (identifier) arguments: (argument_list (false) (identifier))))))', '(local_variable_declaration type: (type_identifier) declarator: (variable_declarator name: (identifier) value: (method_invocation object: (identifier) name: (identifier) arguments: (argument_list (false) (identifier)))))', '(variable_declarator name: (identifier) value: (method_invocation object: (identifier) name: (identifier) arguments: (argument_list (false) (identifier))))', '(method_invocation object: (identifier) name: (identifier) arguments: (argument_list (false) (identifier)))', '(argument_list (false) (identifier))']\n",
      "\n",
      "(variable_declarator name: (identifier) value: (method_invocation object: (identifier) name: (identifier) arguments: (argument_list (identifier) (false))))\n",
      "['(program (local_variable_declaration type: (type_identifier) declarator: (variable_declarator name: (identifier) value: (method_invocation object: (identifier) name: (identifier) arguments: (argument_list (false) (identifier))))))', '(local_variable_declaration type: (type_identifier) declarator: (variable_declarator name: (identifier) value: (method_invocation object: (identifier) name: (identifier) arguments: (argument_list (false) (identifier)))))', '(variable_declarator name: (identifier) value: (method_invocation object: (identifier) name: (identifier) arguments: (argument_list (false) (identifier))))', '(method_invocation object: (identifier) name: (identifier) arguments: (argument_list (false) (identifier)))', '(argument_list (false) (identifier))']\n",
      "\n",
      "(method_invocation object: (identifier) name: (identifier) arguments: (argument_list (identifier) (false)))\n",
      "['(program (local_variable_declaration type: (type_identifier) declarator: (variable_declarator name: (identifier) value: (method_invocation object: (identifier) name: (identifier) arguments: (argument_list (false) (identifier))))))', '(local_variable_declaration type: (type_identifier) declarator: (variable_declarator name: (identifier) value: (method_invocation object: (identifier) name: (identifier) arguments: (argument_list (false) (identifier)))))', '(variable_declarator name: (identifier) value: (method_invocation object: (identifier) name: (identifier) arguments: (argument_list (false) (identifier))))', '(method_invocation object: (identifier) name: (identifier) arguments: (argument_list (false) (identifier)))', '(argument_list (false) (identifier))']\n",
      "\n",
      "(argument_list (identifier) (false))\n",
      "['(program (local_variable_declaration type: (type_identifier) declarator: (variable_declarator name: (identifier) value: (method_invocation object: (identifier) name: (identifier) arguments: (argument_list (false) (identifier))))))', '(local_variable_declaration type: (type_identifier) declarator: (variable_declarator name: (identifier) value: (method_invocation object: (identifier) name: (identifier) arguments: (argument_list (false) (identifier)))))', '(variable_declarator name: (identifier) value: (method_invocation object: (identifier) name: (identifier) arguments: (argument_list (false) (identifier))))', '(method_invocation object: (identifier) name: (identifier) arguments: (argument_list (false) (identifier)))', '(argument_list (false) (identifier))']\n",
      "\n"
     ]
    },
    {
     "data": {
      "text/plain": [
       "{'bleu_ngram_match': 0.26591479484724945,\n",
       " 'weighted_ngram_match': 0.26591479484724945,\n",
       " 'syntax_match': 0.0,\n",
       " 'dataflow_match': 1.0}"
      ]
     },
     "execution_count": 21,
     "metadata": {},
     "output_type": "execute_result"
    }
   ],
   "source": [
    "targets = [\"\"\"BATBlock bb = BATBlock.CreateEmptyBATBlock(false, bigBlockSize);\"\"\"]\n",
    "\n",
    "suggestions = [[\"\"\"BATBlock bb = BATBlock.CreateEmptyBATBlock(bigBlockSize, false);\"\"\"]]\n",
    "\n",
    "compute_metrics(targets, suggestions)"
   ]
  },
  {
   "attachments": {},
   "cell_type": "markdown",
   "metadata": {},
   "source": [
    "# Suggestion swap lines"
   ]
  },
  {
   "cell_type": "code",
   "execution_count": 22,
   "metadata": {},
   "outputs": [
    {
     "data": {
      "text/plain": [
       "{'bleu_ngram_match': 0.785629301801026,\n",
       " 'weighted_ngram_match': 0.785629301801026,\n",
       " 'syntax_match': 0.9285714285714286,\n",
       " 'dataflow_match': 0.5}"
      ]
     },
     "execution_count": 22,
     "metadata": {},
     "output_type": "execute_result"
    }
   ],
   "source": [
    "targets = [\"\"\"\n",
    "BATBlock bb = BATBlock.CreateEmptyBATBlock(false, bigBlockSize);\n",
    "_header.BATArray = (new int[]){1 };\n",
    "\"\"\"]\n",
    "\n",
    "suggestions = [[\"\"\"\n",
    "_header.BATArray = (new int[]){1 };\n",
    "BATBlock bb = BATBlock.CreateEmptyBATBlock(false, bigBlockSize);\n",
    "\"\"\"]]\n",
    "\n",
    "compute_metrics(targets, suggestions)"
   ]
  },
  {
   "attachments": {},
   "cell_type": "markdown",
   "metadata": {},
   "source": [
    "# Wrong binary operator"
   ]
  },
  {
   "cell_type": "code",
   "execution_count": 35,
   "metadata": {},
   "outputs": [
    {
     "name": "stdout",
     "output_type": "stream",
     "text": [
      "(program (local_variable_declaration type: (type_identifier) declarator: (variable_declarator name: (identifier) value: (binary_expression left: (identifier) right: (identifier)))))\n",
      "['(program (local_variable_declaration type: (type_identifier) declarator: (variable_declarator name: (identifier) value: (binary_expression left: (identifier) right: (identifier)))))', '(local_variable_declaration type: (type_identifier) declarator: (variable_declarator name: (identifier) value: (binary_expression left: (identifier) right: (identifier))))', '(variable_declarator name: (identifier) value: (binary_expression left: (identifier) right: (identifier)))', '(binary_expression left: (identifier) right: (identifier))']\n",
      "\n",
      "(local_variable_declaration type: (type_identifier) declarator: (variable_declarator name: (identifier) value: (binary_expression left: (identifier) right: (identifier))))\n",
      "['(program (local_variable_declaration type: (type_identifier) declarator: (variable_declarator name: (identifier) value: (binary_expression left: (identifier) right: (identifier)))))', '(local_variable_declaration type: (type_identifier) declarator: (variable_declarator name: (identifier) value: (binary_expression left: (identifier) right: (identifier))))', '(variable_declarator name: (identifier) value: (binary_expression left: (identifier) right: (identifier)))', '(binary_expression left: (identifier) right: (identifier))']\n",
      "\n",
      "(variable_declarator name: (identifier) value: (binary_expression left: (identifier) right: (identifier)))\n",
      "['(program (local_variable_declaration type: (type_identifier) declarator: (variable_declarator name: (identifier) value: (binary_expression left: (identifier) right: (identifier)))))', '(local_variable_declaration type: (type_identifier) declarator: (variable_declarator name: (identifier) value: (binary_expression left: (identifier) right: (identifier))))', '(variable_declarator name: (identifier) value: (binary_expression left: (identifier) right: (identifier)))', '(binary_expression left: (identifier) right: (identifier))']\n",
      "\n",
      "(binary_expression left: (identifier) right: (identifier))\n",
      "['(program (local_variable_declaration type: (type_identifier) declarator: (variable_declarator name: (identifier) value: (binary_expression left: (identifier) right: (identifier)))))', '(local_variable_declaration type: (type_identifier) declarator: (variable_declarator name: (identifier) value: (binary_expression left: (identifier) right: (identifier))))', '(variable_declarator name: (identifier) value: (binary_expression left: (identifier) right: (identifier)))', '(binary_expression left: (identifier) right: (identifier))']\n",
      "\n",
      "('var_2', 'comesFrom', ['var_0', 'var_1'])\n",
      "[('var_2', 'comesFrom', ['var_0', 'var_1']), ('var_0', 'comesFrom', []), ('var_1', 'comesFrom', [])]\n",
      "('var_0', 'comesFrom', [])\n",
      "[('var_0', 'comesFrom', []), ('var_1', 'comesFrom', [])]\n",
      "('var_1', 'comesFrom', [])\n",
      "[('var_1', 'comesFrom', [])]\n"
     ]
    },
    {
     "data": {
      "text/plain": [
       "{'bleu_ngram_match': 0.537284965911771,\n",
       " 'weighted_ngram_match': 0.537284965911771,\n",
       " 'syntax_match': 1.0,\n",
       " 'dataflow_match': 1.0}"
      ]
     },
     "execution_count": 35,
     "metadata": {},
     "output_type": "execute_result"
    }
   ],
   "source": [
    "targets = [\"\"\"\n",
    "BATBlock bb = cc + DD;\n",
    "\"\"\"]\n",
    "\n",
    "suggestions = [[\"\"\"\n",
    "BATBlock bb = cc * DD;\n",
    "\"\"\"]]\n",
    "\n",
    "compute_metrics(targets, suggestions)"
   ]
  },
  {
   "attachments": {},
   "cell_type": "markdown",
   "metadata": {},
   "source": [
    "# Wrong type"
   ]
  },
  {
   "cell_type": "code",
   "execution_count": 34,
   "metadata": {},
   "outputs": [
    {
     "name": "stdout",
     "output_type": "stream",
     "text": [
      "(program (local_variable_declaration type: (floating_point_type) declarator: (variable_declarator name: (identifier) value: (method_invocation object: (identifier) name: (identifier) arguments: (argument_list (identifier) (false))))))\n",
      "['(program (local_variable_declaration type: (type_identifier) declarator: (variable_declarator name: (identifier) value: (method_invocation object: (identifier) name: (identifier) arguments: (argument_list (identifier) (false))))))', '(local_variable_declaration type: (type_identifier) declarator: (variable_declarator name: (identifier) value: (method_invocation object: (identifier) name: (identifier) arguments: (argument_list (identifier) (false)))))', '(variable_declarator name: (identifier) value: (method_invocation object: (identifier) name: (identifier) arguments: (argument_list (identifier) (false))))', '(method_invocation object: (identifier) name: (identifier) arguments: (argument_list (identifier) (false)))', '(argument_list (identifier) (false))']\n",
      "\n",
      "(local_variable_declaration type: (floating_point_type) declarator: (variable_declarator name: (identifier) value: (method_invocation object: (identifier) name: (identifier) arguments: (argument_list (identifier) (false)))))\n",
      "['(program (local_variable_declaration type: (type_identifier) declarator: (variable_declarator name: (identifier) value: (method_invocation object: (identifier) name: (identifier) arguments: (argument_list (identifier) (false))))))', '(local_variable_declaration type: (type_identifier) declarator: (variable_declarator name: (identifier) value: (method_invocation object: (identifier) name: (identifier) arguments: (argument_list (identifier) (false)))))', '(variable_declarator name: (identifier) value: (method_invocation object: (identifier) name: (identifier) arguments: (argument_list (identifier) (false))))', '(method_invocation object: (identifier) name: (identifier) arguments: (argument_list (identifier) (false)))', '(argument_list (identifier) (false))']\n",
      "\n",
      "(variable_declarator name: (identifier) value: (method_invocation object: (identifier) name: (identifier) arguments: (argument_list (identifier) (false))))\n",
      "['(program (local_variable_declaration type: (type_identifier) declarator: (variable_declarator name: (identifier) value: (method_invocation object: (identifier) name: (identifier) arguments: (argument_list (identifier) (false))))))', '(local_variable_declaration type: (type_identifier) declarator: (variable_declarator name: (identifier) value: (method_invocation object: (identifier) name: (identifier) arguments: (argument_list (identifier) (false)))))', '(variable_declarator name: (identifier) value: (method_invocation object: (identifier) name: (identifier) arguments: (argument_list (identifier) (false))))', '(method_invocation object: (identifier) name: (identifier) arguments: (argument_list (identifier) (false)))', '(argument_list (identifier) (false))']\n",
      "\n",
      "(method_invocation object: (identifier) name: (identifier) arguments: (argument_list (identifier) (false)))\n",
      "['(program (local_variable_declaration type: (type_identifier) declarator: (variable_declarator name: (identifier) value: (method_invocation object: (identifier) name: (identifier) arguments: (argument_list (identifier) (false))))))', '(local_variable_declaration type: (type_identifier) declarator: (variable_declarator name: (identifier) value: (method_invocation object: (identifier) name: (identifier) arguments: (argument_list (identifier) (false)))))', '(variable_declarator name: (identifier) value: (method_invocation object: (identifier) name: (identifier) arguments: (argument_list (identifier) (false))))', '(method_invocation object: (identifier) name: (identifier) arguments: (argument_list (identifier) (false)))', '(argument_list (identifier) (false))']\n",
      "\n",
      "(argument_list (identifier) (false))\n",
      "['(program (local_variable_declaration type: (type_identifier) declarator: (variable_declarator name: (identifier) value: (method_invocation object: (identifier) name: (identifier) arguments: (argument_list (identifier) (false))))))', '(local_variable_declaration type: (type_identifier) declarator: (variable_declarator name: (identifier) value: (method_invocation object: (identifier) name: (identifier) arguments: (argument_list (identifier) (false)))))', '(variable_declarator name: (identifier) value: (method_invocation object: (identifier) name: (identifier) arguments: (argument_list (identifier) (false))))', '(method_invocation object: (identifier) name: (identifier) arguments: (argument_list (identifier) (false)))', '(argument_list (identifier) (false))']\n",
      "\n",
      "(floating_point_type)\n",
      "['(program (local_variable_declaration type: (type_identifier) declarator: (variable_declarator name: (identifier) value: (method_invocation object: (identifier) name: (identifier) arguments: (argument_list (identifier) (false))))))', '(local_variable_declaration type: (type_identifier) declarator: (variable_declarator name: (identifier) value: (method_invocation object: (identifier) name: (identifier) arguments: (argument_list (identifier) (false)))))', '(variable_declarator name: (identifier) value: (method_invocation object: (identifier) name: (identifier) arguments: (argument_list (identifier) (false))))', '(method_invocation object: (identifier) name: (identifier) arguments: (argument_list (identifier) (false)))', '(argument_list (identifier) (false))']\n",
      "\n",
      "('var_3', 'comesFrom', ['var_0', 'var_1', 'var_2'])\n",
      "[('var_3', 'comesFrom', ['var_0', 'var_1', 'var_2']), ('var_1', 'comesFrom', []), ('var_0', 'comesFrom', []), ('var_2', 'comesFrom', [])]\n",
      "('var_1', 'comesFrom', [])\n",
      "[('var_1', 'comesFrom', []), ('var_0', 'comesFrom', []), ('var_2', 'comesFrom', [])]\n",
      "('var_0', 'comesFrom', [])\n",
      "[('var_0', 'comesFrom', []), ('var_2', 'comesFrom', [])]\n",
      "('var_2', 'comesFrom', [])\n",
      "[('var_2', 'comesFrom', [])]\n"
     ]
    },
    {
     "data": {
      "text/plain": [
       "{'bleu_ngram_match': 0.668740304976422,\n",
       " 'weighted_ngram_match': 0.5773502691896258,\n",
       " 'syntax_match': 0.5,\n",
       " 'dataflow_match': 1.0}"
      ]
     },
     "execution_count": 34,
     "metadata": {},
     "output_type": "execute_result"
    }
   ],
   "source": [
    "targets = [\"\"\"\n",
    "BATBlock bb = BATBlock.CreateEmptyBATBlock(bigBlockSize, false);\n",
    "\"\"\"]\n",
    "\n",
    "suggestions = [[\"\"\"\n",
    "float bb = BATBlock.CreateEmptyBATBlock(bigBlockSize, false);\n",
    "\"\"\"]]\n",
    "\n",
    "compute_metrics(targets, suggestions)"
   ]
  },
  {
   "attachments": {},
   "cell_type": "markdown",
   "metadata": {},
   "source": [
    "# Different naming but same origin"
   ]
  },
  {
   "cell_type": "code",
   "execution_count": 36,
   "metadata": {},
   "outputs": [
    {
     "name": "stdout",
     "output_type": "stream",
     "text": [
      "<Node type=program, start_point=(0, 0), end_point=(1, 19)>\n",
      "<Node type=local_variable_declaration, start_point=(1, 0), end_point=(1, 19)>\n",
      "<Node type=variable_declarator, start_point=(1, 6), end_point=(1, 18)>\n",
      "<Node type=binary_expression, start_point=(1, 11), end_point=(1, 18)>\n",
      "<Node type=floating_point_type, start_point=(1, 0), end_point=(1, 5)>\n",
      "<Node type=local_variable_declaration, start_point=(0, 0), end_point=(0, 13)>\n",
      "<Node type=variable_declarator, start_point=(0, 6), end_point=(0, 12)>\n",
      "<Node type=floating_point_type, start_point=(0, 0), end_point=(0, 5)>\n",
      "<Node type=program, start_point=(0, 0), end_point=(1, 19)>\n",
      "<Node type=local_variable_declaration, start_point=(1, 0), end_point=(1, 19)>\n",
      "<Node type=variable_declarator, start_point=(1, 6), end_point=(1, 18)>\n",
      "<Node type=binary_expression, start_point=(1, 11), end_point=(1, 18)>\n",
      "<Node type=floating_point_type, start_point=(1, 0), end_point=(1, 5)>\n",
      "<Node type=local_variable_declaration, start_point=(0, 0), end_point=(0, 13)>\n",
      "<Node type=variable_declarator, start_point=(0, 6), end_point=(0, 12)>\n",
      "<Node type=floating_point_type, start_point=(0, 0), end_point=(0, 5)>\n",
      "(program (local_variable_declaration type: (floating_point_type) declarator: (variable_declarator name: (identifier) value: (decimal_integer_literal))) (local_variable_declaration type: (floating_point_type) declarator: (variable_declarator name: (identifier) value: (binary_expression left: (identifier) right: (identifier)))))\n",
      "['(program (local_variable_declaration type: (floating_point_type) declarator: (variable_declarator name: (identifier) value: (decimal_integer_literal))) (local_variable_declaration type: (floating_point_type) declarator: (variable_declarator name: (identifier) value: (binary_expression left: (identifier) right: (identifier)))))', '(local_variable_declaration type: (floating_point_type) declarator: (variable_declarator name: (identifier) value: (binary_expression left: (identifier) right: (identifier))))', '(variable_declarator name: (identifier) value: (binary_expression left: (identifier) right: (identifier)))', '(binary_expression left: (identifier) right: (identifier))', '(floating_point_type)', '(local_variable_declaration type: (floating_point_type) declarator: (variable_declarator name: (identifier) value: (decimal_integer_literal)))', '(variable_declarator name: (identifier) value: (decimal_integer_literal))', '(floating_point_type)']\n",
      "\n",
      "(local_variable_declaration type: (floating_point_type) declarator: (variable_declarator name: (identifier) value: (binary_expression left: (identifier) right: (identifier))))\n",
      "['(program (local_variable_declaration type: (floating_point_type) declarator: (variable_declarator name: (identifier) value: (decimal_integer_literal))) (local_variable_declaration type: (floating_point_type) declarator: (variable_declarator name: (identifier) value: (binary_expression left: (identifier) right: (identifier)))))', '(local_variable_declaration type: (floating_point_type) declarator: (variable_declarator name: (identifier) value: (binary_expression left: (identifier) right: (identifier))))', '(variable_declarator name: (identifier) value: (binary_expression left: (identifier) right: (identifier)))', '(binary_expression left: (identifier) right: (identifier))', '(floating_point_type)', '(local_variable_declaration type: (floating_point_type) declarator: (variable_declarator name: (identifier) value: (decimal_integer_literal)))', '(variable_declarator name: (identifier) value: (decimal_integer_literal))', '(floating_point_type)']\n",
      "\n",
      "(variable_declarator name: (identifier) value: (binary_expression left: (identifier) right: (identifier)))\n",
      "['(program (local_variable_declaration type: (floating_point_type) declarator: (variable_declarator name: (identifier) value: (decimal_integer_literal))) (local_variable_declaration type: (floating_point_type) declarator: (variable_declarator name: (identifier) value: (binary_expression left: (identifier) right: (identifier)))))', '(local_variable_declaration type: (floating_point_type) declarator: (variable_declarator name: (identifier) value: (binary_expression left: (identifier) right: (identifier))))', '(variable_declarator name: (identifier) value: (binary_expression left: (identifier) right: (identifier)))', '(binary_expression left: (identifier) right: (identifier))', '(floating_point_type)', '(local_variable_declaration type: (floating_point_type) declarator: (variable_declarator name: (identifier) value: (decimal_integer_literal)))', '(variable_declarator name: (identifier) value: (decimal_integer_literal))', '(floating_point_type)']\n",
      "\n",
      "(binary_expression left: (identifier) right: (identifier))\n",
      "['(program (local_variable_declaration type: (floating_point_type) declarator: (variable_declarator name: (identifier) value: (decimal_integer_literal))) (local_variable_declaration type: (floating_point_type) declarator: (variable_declarator name: (identifier) value: (binary_expression left: (identifier) right: (identifier)))))', '(local_variable_declaration type: (floating_point_type) declarator: (variable_declarator name: (identifier) value: (binary_expression left: (identifier) right: (identifier))))', '(variable_declarator name: (identifier) value: (binary_expression left: (identifier) right: (identifier)))', '(binary_expression left: (identifier) right: (identifier))', '(floating_point_type)', '(local_variable_declaration type: (floating_point_type) declarator: (variable_declarator name: (identifier) value: (decimal_integer_literal)))', '(variable_declarator name: (identifier) value: (decimal_integer_literal))', '(floating_point_type)']\n",
      "\n",
      "(floating_point_type)\n",
      "['(program (local_variable_declaration type: (floating_point_type) declarator: (variable_declarator name: (identifier) value: (decimal_integer_literal))) (local_variable_declaration type: (floating_point_type) declarator: (variable_declarator name: (identifier) value: (binary_expression left: (identifier) right: (identifier)))))', '(local_variable_declaration type: (floating_point_type) declarator: (variable_declarator name: (identifier) value: (binary_expression left: (identifier) right: (identifier))))', '(variable_declarator name: (identifier) value: (binary_expression left: (identifier) right: (identifier)))', '(binary_expression left: (identifier) right: (identifier))', '(floating_point_type)', '(local_variable_declaration type: (floating_point_type) declarator: (variable_declarator name: (identifier) value: (decimal_integer_literal)))', '(variable_declarator name: (identifier) value: (decimal_integer_literal))', '(floating_point_type)']\n",
      "\n",
      "(local_variable_declaration type: (floating_point_type) declarator: (variable_declarator name: (identifier) value: (decimal_integer_literal)))\n",
      "['(program (local_variable_declaration type: (floating_point_type) declarator: (variable_declarator name: (identifier) value: (decimal_integer_literal))) (local_variable_declaration type: (floating_point_type) declarator: (variable_declarator name: (identifier) value: (binary_expression left: (identifier) right: (identifier)))))', '(local_variable_declaration type: (floating_point_type) declarator: (variable_declarator name: (identifier) value: (binary_expression left: (identifier) right: (identifier))))', '(variable_declarator name: (identifier) value: (binary_expression left: (identifier) right: (identifier)))', '(binary_expression left: (identifier) right: (identifier))', '(floating_point_type)', '(local_variable_declaration type: (floating_point_type) declarator: (variable_declarator name: (identifier) value: (decimal_integer_literal)))', '(variable_declarator name: (identifier) value: (decimal_integer_literal))', '(floating_point_type)']\n",
      "\n",
      "(variable_declarator name: (identifier) value: (decimal_integer_literal))\n",
      "['(program (local_variable_declaration type: (floating_point_type) declarator: (variable_declarator name: (identifier) value: (decimal_integer_literal))) (local_variable_declaration type: (floating_point_type) declarator: (variable_declarator name: (identifier) value: (binary_expression left: (identifier) right: (identifier)))))', '(local_variable_declaration type: (floating_point_type) declarator: (variable_declarator name: (identifier) value: (binary_expression left: (identifier) right: (identifier))))', '(variable_declarator name: (identifier) value: (binary_expression left: (identifier) right: (identifier)))', '(binary_expression left: (identifier) right: (identifier))', '(floating_point_type)', '(local_variable_declaration type: (floating_point_type) declarator: (variable_declarator name: (identifier) value: (decimal_integer_literal)))', '(variable_declarator name: (identifier) value: (decimal_integer_literal))', '(floating_point_type)']\n",
      "\n",
      "(floating_point_type)\n",
      "['(program (local_variable_declaration type: (floating_point_type) declarator: (variable_declarator name: (identifier) value: (decimal_integer_literal))) (local_variable_declaration type: (floating_point_type) declarator: (variable_declarator name: (identifier) value: (binary_expression left: (identifier) right: (identifier)))))', '(local_variable_declaration type: (floating_point_type) declarator: (variable_declarator name: (identifier) value: (binary_expression left: (identifier) right: (identifier))))', '(variable_declarator name: (identifier) value: (binary_expression left: (identifier) right: (identifier)))', '(binary_expression left: (identifier) right: (identifier))', '(floating_point_type)', '(local_variable_declaration type: (floating_point_type) declarator: (variable_declarator name: (identifier) value: (decimal_integer_literal)))', '(variable_declarator name: (identifier) value: (decimal_integer_literal))', '(floating_point_type)']\n",
      "\n",
      "('var_1', 'comesFrom', ['var_0'])\n",
      "[('var_1', 'comesFrom', ['var_0']), ('var_0', 'comesFrom', []), ('var_3', 'comesFrom', ['var_1', 'var_2']), ('var_1', 'comesFrom', ['var_1']), ('var_2', 'comesFrom', [])]\n",
      "('var_0', 'comesFrom', [])\n",
      "[('var_0', 'comesFrom', []), ('var_3', 'comesFrom', ['var_1', 'var_2']), ('var_1', 'comesFrom', ['var_1']), ('var_2', 'comesFrom', [])]\n",
      "('var_3', 'comesFrom', ['var_1', 'var_2'])\n",
      "[('var_3', 'comesFrom', ['var_1', 'var_2']), ('var_1', 'comesFrom', ['var_1']), ('var_2', 'comesFrom', [])]\n",
      "('var_1', 'comesFrom', ['var_1'])\n",
      "[('var_1', 'comesFrom', ['var_1']), ('var_2', 'comesFrom', [])]\n",
      "('var_2', 'comesFrom', [])\n",
      "[('var_2', 'comesFrom', [])]\n"
     ]
    },
    {
     "data": {
      "text/plain": [
       "{'bleu_ngram_match': 0.4671379777282001,\n",
       " 'weighted_ngram_match': 0.47960593523654194,\n",
       " 'syntax_match': 1.0,\n",
       " 'dataflow_match': 1.0}"
      ]
     },
     "execution_count": 36,
     "metadata": {},
     "output_type": "execute_result"
    }
   ],
   "source": [
    "targets = [\"\"\"\n",
    "float cc = 5;\n",
    "float bb = cc - DD;\n",
    "\"\"\"]\n",
    "\n",
    "suggestions = [[\"\"\"\n",
    "float ii = 5;\n",
    "float bb = ii - DD;\n",
    "\"\"\"]]\n",
    "\n",
    "compute_metrics(targets, suggestions)"
   ]
  },
  {
   "cell_type": "code",
   "execution_count": null,
   "metadata": {},
   "outputs": [],
   "source": []
  }
 ],
 "metadata": {
  "kernelspec": {
   "display_name": "static-bug-fixing",
   "language": "python",
   "name": "python3"
  },
  "language_info": {
   "codemirror_mode": {
    "name": "ipython",
    "version": 3
   },
   "file_extension": ".py",
   "mimetype": "text/x-python",
   "name": "python",
   "nbconvert_exporter": "python",
   "pygments_lexer": "ipython3",
   "version": "3.9.15"
  },
  "orig_nbformat": 4,
  "vscode": {
   "interpreter": {
    "hash": "d713b843a73b127a159455cd0c796efca24dd1d016ba991f0bfdc602988835f2"
   }
  }
 },
 "nbformat": 4,
 "nbformat_minor": 2
}
