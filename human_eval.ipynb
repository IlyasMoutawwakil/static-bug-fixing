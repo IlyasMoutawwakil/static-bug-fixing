{
 "cells": [
  {
   "cell_type": "code",
   "execution_count": null,
   "metadata": {},
   "outputs": [],
   "source": [
    "import sys\n",
    "\n",
    "from human_eval.data import HUMAN_EVAL\n",
    "from human_eval.evaluation import evaluate_functional_correctness\n",
    "\n",
    "\n",
    "def entry_point(\n",
    "    sample_file: str,\n",
    "    k: str = \"1,10,100\",\n",
    "    n_workers: int = 4,\n",
    "    timeout: float = 3.0,\n",
    "    problem_file: str = HUMAN_EVAL,\n",
    "):\n",
    "    \"\"\"\n",
    "    Evaluates the functional correctness of generated samples, and writes\n",
    "    results to f\"{sample_file}_results.jsonl.gz\"\n",
    "    \"\"\"\n",
    "    k = list(map(int, k.split(\",\")))\n",
    "    results = evaluate_functional_correctness(sample_file, k, n_workers, timeout, problem_file)\n",
    "    print(results)"
   ]
  }
 ],
 "metadata": {
  "kernelspec": {
   "display_name": "static-bug-fixing",
   "language": "python",
   "name": "python3"
  },
  "language_info": {
   "name": "python",
   "version": "3.9.15"
  },
  "orig_nbformat": 4,
  "vscode": {
   "interpreter": {
    "hash": "d713b843a73b127a159455cd0c796efca24dd1d016ba991f0bfdc602988835f2"
   }
  }
 },
 "nbformat": 4,
 "nbformat_minor": 2
}
